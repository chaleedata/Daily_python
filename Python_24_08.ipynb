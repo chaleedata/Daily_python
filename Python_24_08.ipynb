{
  "nbformat": 4,
  "nbformat_minor": 0,
  "metadata": {
    "colab": {
      "name": "Learn python 24/08.ipynb",
      "provenance": [],
      "collapsed_sections": []
    },
    "kernelspec": {
      "name": "python3",
      "display_name": "Python 3"
    },
    "language_info": {
      "name": "python"
    }
  },
  "cells": [
    {
      "cell_type": "code",
      "metadata": {
        "id": "TwFUM817V0gC"
      },
      "source": [
        "df = [1,2,3,44,55,56,6,9,234]"
      ],
      "execution_count": 1,
      "outputs": []
    },
    {
      "cell_type": "markdown",
      "metadata": {
        "id": "PMfvjbZum7SH"
      },
      "source": [
        "#List AdVANCE"
      ]
    },
    {
      "cell_type": "code",
      "metadata": {
        "id": "q0kUYi2EWLrG"
      },
      "source": [
        " def remove_middle(lst , start ,end):\n",
        "  return lst[:start] + lst[end+1:]\n",
        "\n",
        "\n",
        "  #start จะนับทุกตัว\n",
        "  #end + 1 จะนับจากข้างหลัง แล้ว หา 1 "
      ],
      "execution_count": 2,
      "outputs": []
    },
    {
      "cell_type": "code",
      "metadata": {
        "id": "Ccvhi4bXZqKq"
      },
      "source": [
        "#more frequent \n",
        "def more_frequent_item(lst ,item1 ,item2):\n",
        "  if lst.count(item1) >= lst.count(item2):\n",
        "    return item1\n",
        "  else:\n",
        "    return item2"
      ],
      "execution_count": 3,
      "outputs": []
    },
    {
      "cell_type": "code",
      "metadata": {
        "id": "Kowq8d_yZuPm"
      },
      "source": [
        "def middle_element(lst):\n",
        "  if len(lst) %2 == 0:\n",
        "    sum = lst[int(len(lst)/2)] + lst[int(len(lst)/2)-1]\n",
        "    return sum/2 \n",
        "  else:\n",
        "    return lst[int(len(lst)/2)]\n",
        "    "
      ],
      "execution_count": 4,
      "outputs": []
    },
    {
      "cell_type": "code",
      "metadata": {
        "colab": {
          "base_uri": "https://localhost:8080/"
        },
        "id": "YtcDu4GGhKQr",
        "outputId": "b1f41c9c-558f-4961-fc85-091d0940b622"
      },
      "source": [
        "middle_element(df)"
      ],
      "execution_count": 5,
      "outputs": [
        {
          "output_type": "execute_result",
          "data": {
            "text/plain": [
              "55"
            ]
          },
          "metadata": {},
          "execution_count": 5
        }
      ]
    },
    {
      "cell_type": "markdown",
      "metadata": {
        "id": "OwM7ItZ4xJjQ"
      },
      "source": [
        "#Python Challenge loop"
      ]
    },
    {
      "cell_type": "code",
      "metadata": {
        "id": "oQs4SaBnyIIN"
      },
      "source": [
        "df = [1,2,3,44,50 ,55,56,6,9,234]"
      ],
      "execution_count": 6,
      "outputs": []
    },
    {
      "cell_type": "code",
      "metadata": {
        "id": "-gQxl6jxhMMP"
      },
      "source": [
        "def divisible_by_ten(nums):\n",
        "  count = 0\n",
        "  for num in nums:\n",
        "    if (num % 10 == 0):\n",
        "      count += 1\n",
        "  return count"
      ],
      "execution_count": 7,
      "outputs": []
    },
    {
      "cell_type": "code",
      "metadata": {
        "colab": {
          "base_uri": "https://localhost:8080/"
        },
        "id": "JIE6PJPnyCOW",
        "outputId": "a773d948-ee6b-4c9c-d0e2-387f4fd83fa7"
      },
      "source": [
        "divisible_by_ten(df)"
      ],
      "execution_count": 8,
      "outputs": [
        {
          "output_type": "execute_result",
          "data": {
            "text/plain": [
              "1"
            ]
          },
          "metadata": {},
          "execution_count": 8
        }
      ]
    },
    {
      "cell_type": "code",
      "metadata": {
        "id": "OhBQPmQ8yD-_"
      },
      "source": [
        "def add_greetings(names):\n",
        "  l = []\n",
        "  for i in names:\n",
        "    l.append(\"Hello, \"+ i)\n",
        "  return l"
      ],
      "execution_count": 9,
      "outputs": []
    },
    {
      "cell_type": "code",
      "metadata": {
        "id": "gRoJRlxt2a3U"
      },
      "source": [
        "def delete_starting_evens(lst):\n",
        "  while (len(lst) > 0 and lst[0] % 2 ==0):\n",
        "    lst = lst[1:]\n",
        "  return lst\n",
        "\n",
        "  # while loop to keep iterating as long as some provided conditions are true"
      ],
      "execution_count": 10,
      "outputs": []
    },
    {
      "cell_type": "code",
      "metadata": {
        "id": "1oJYKiwm3Tvb"
      },
      "source": [
        "df_odd = [4, 3, 7, 10, 11, -2]"
      ],
      "execution_count": 11,
      "outputs": []
    },
    {
      "cell_type": "code",
      "metadata": {
        "id": "NM670_P42qcG"
      },
      "source": [
        "def odd_indices(lst):\n",
        "  new_lst = []\n",
        "  for index in range(1, len(lst), 2):\n",
        "    new_lst.append(lst[index])\n",
        "  return new_lst"
      ],
      "execution_count": 12,
      "outputs": []
    },
    {
      "cell_type": "code",
      "metadata": {
        "colab": {
          "base_uri": "https://localhost:8080/"
        },
        "id": "ACJt7xX-3VTO",
        "outputId": "66052b5e-0507-45f9-e264-fd110365417d"
      },
      "source": [
        "odd_indices(df_odd)"
      ],
      "execution_count": 13,
      "outputs": [
        {
          "output_type": "execute_result",
          "data": {
            "text/plain": [
              "[3, 10, -2]"
            ]
          },
          "metadata": {},
          "execution_count": 13
        }
      ]
    },
    {
      "cell_type": "code",
      "metadata": {
        "colab": {
          "base_uri": "https://localhost:8080/"
        },
        "id": "ZaYMBEvR3YaL",
        "outputId": "d7dd42b4-b5b7-4096-c83b-990614d974cf"
      },
      "source": [
        "for i in range(1, 10, 2):\n",
        "  print(i) "
      ],
      "execution_count": 14,
      "outputs": [
        {
          "output_type": "stream",
          "text": [
            "1\n",
            "3\n",
            "5\n",
            "7\n",
            "9\n"
          ],
          "name": "stdout"
        }
      ]
    },
    {
      "cell_type": "code",
      "metadata": {
        "id": "LZ39ow515F5A",
        "colab": {
          "base_uri": "https://localhost:8080/"
        },
        "outputId": "e28b9910-6a6f-4b6e-ca0d-762450239edd"
      },
      "source": [
        "#Nested loop \n",
        "def exponents(bases , powers):\n",
        "  l = []\n",
        "  for  base in bases:\n",
        "    for power in powers:\n",
        "      l.append(base ** power)\n",
        "  return l\n",
        "\n",
        "print(exponents([2, 3, 4], [1, 2, 3]))"
      ],
      "execution_count": 15,
      "outputs": [
        {
          "output_type": "stream",
          "text": [
            "[2, 4, 8, 3, 9, 27, 4, 16, 64]\n"
          ],
          "name": "stdout"
        }
      ]
    },
    {
      "cell_type": "markdown",
      "metadata": {
        "id": "U8DZ0U5s_LaD"
      },
      "source": [
        "#LOOPS ADVANCE "
      ]
    },
    {
      "cell_type": "code",
      "metadata": {
        "id": "a_j6_NEn_uXZ"
      },
      "source": [
        "#Larger sum \n",
        "def larger_sum(lst1 , lst2):\n",
        "  sum1 = 0 # It like as empty list \n",
        "  sum2 = 0 \n",
        "  for it1 in lst1:  #calculate lst1\n",
        "    sum1 += it1\n",
        "  for it2 in lst2:   #calculate lst2\n",
        "    sum2 += it2\n",
        "  if sum1 >= sum2:  #check condition\n",
        "    return lst1\n",
        "  else:\n",
        "    return lst2"
      ],
      "execution_count": 16,
      "outputs": []
    },
    {
      "cell_type": "code",
      "metadata": {
        "colab": {
          "base_uri": "https://localhost:8080/"
        },
        "id": "L-vtnMddB_SH",
        "outputId": "b6528d08-0ef9-40ae-c89d-cd97f0b97b8a"
      },
      "source": [
        "larger_sum([1, 9, 5], [2, 3, 7])"
      ],
      "execution_count": 17,
      "outputs": [
        {
          "output_type": "execute_result",
          "data": {
            "text/plain": [
              "[1, 9, 5]"
            ]
          },
          "metadata": {},
          "execution_count": 17
        }
      ]
    },
    {
      "cell_type": "code",
      "metadata": {
        "id": "DfBvO6LmDk-w"
      },
      "source": [
        "#Over 9000 \n",
        "\n",
        "def over_nine_thousand(lst):\n",
        "  sum = 0\n",
        "  for number in lst:\n",
        "    sum += number  \n",
        "    if (sum > 9000):  #ยังไงต้องมากว่า 9000 ถ้าตัวแรก 9000 ตัวต่อไปจะไม่ถูกนำมาคิด\n",
        "      break\n",
        "  return sum "
      ],
      "execution_count": 18,
      "outputs": []
    },
    {
      "cell_type": "code",
      "metadata": {
        "id": "PPLpqgIaHcpj"
      },
      "source": [
        "#max write function \n",
        "def max_num(nums):\n",
        "  maximum = nums[0]\n",
        "  for number in nums:\n",
        "    if number > maximum:\n",
        "      maximum = number\n",
        "  return maximum"
      ],
      "execution_count": 19,
      "outputs": []
    },
    {
      "cell_type": "code",
      "metadata": {
        "colab": {
          "base_uri": "https://localhost:8080/"
        },
        "id": "hWIsteXYH01q",
        "outputId": "9e26e873-713c-48f9-e270-face0885adeb"
      },
      "source": [
        "max_num([1,34,5])"
      ],
      "execution_count": 20,
      "outputs": [
        {
          "output_type": "execute_result",
          "data": {
            "text/plain": [
              "34"
            ]
          },
          "metadata": {},
          "execution_count": 20
        }
      ]
    },
    {
      "cell_type": "code",
      "metadata": {
        "colab": {
          "base_uri": "https://localhost:8080/"
        },
        "id": "_CU4u3APH2_l",
        "outputId": "0e700374-ed69-4a44-d9d3-e60a176a4fdb"
      },
      "source": [
        "nums = [1,34,5]\n",
        "nums[0]"
      ],
      "execution_count": 21,
      "outputs": [
        {
          "output_type": "execute_result",
          "data": {
            "text/plain": [
              "1"
            ]
          },
          "metadata": {},
          "execution_count": 21
        }
      ]
    },
    {
      "cell_type": "code",
      "metadata": {
        "id": "0RyNkoXmIa16"
      },
      "source": [
        "#find same value \n",
        "def same_values(lst1 , lst2):\n",
        "  newlist= []\n",
        "  for index in range(len(lst1)):\n",
        "    if lst1[index] == lst2[index]:\n",
        "      newlist.append(index)\n",
        "  return newlist"
      ],
      "execution_count": 22,
      "outputs": []
    },
    {
      "cell_type": "code",
      "metadata": {
        "id": "T8IFJ83RLYmm"
      },
      "source": [
        "#Reversed List \n",
        "def reversed_list(lst1 ,lst2):\n",
        "  for index in range(len(lst1)):\n",
        "    if lst1[index] != lst2[len(lst2) -1 - index]:  #reverse look at -1\n",
        "      return False\n",
        "  return True"
      ],
      "execution_count": 23,
      "outputs": []
    },
    {
      "cell_type": "code",
      "metadata": {
        "id": "ycdFcC2kINUj"
      },
      "source": [
        "  #Reverse list\n",
        "  def reverse(list_of_chars):\n",
        "\n",
        "    left_index  = 0\n",
        "    right_index = len(list_of_chars) - 1\n",
        "\n",
        "    while left_index < right_index:\n",
        "        # Swap characters\n",
        "        list_of_chars[left_index], list_of_chars[right_index] = \\\n",
        "            list_of_chars[right_index], list_of_chars[left_index]\n",
        "        # Move towards middle\n",
        "        left_index  += 1\n",
        "        right_index -= 1\n",
        "    return list_of_chars"
      ],
      "execution_count": 24,
      "outputs": []
    },
    {
      "cell_type": "code",
      "metadata": {
        "id": "JbiDQVUbJa2h"
      },
      "source": [
        "list_of_chars = ['z','r','x','e','c']\n"
      ],
      "execution_count": 25,
      "outputs": []
    },
    {
      "cell_type": "code",
      "metadata": {
        "colab": {
          "base_uri": "https://localhost:8080/"
        },
        "id": "5ARfCQAnJesP",
        "outputId": "ee5ef783-4a28-4514-904e-4e34dab9fa54"
      },
      "source": [
        "reverse(list_of_chars)"
      ],
      "execution_count": 26,
      "outputs": [
        {
          "output_type": "execute_result",
          "data": {
            "text/plain": [
              "['c', 'e', 'x', 'r', 'z']"
            ]
          },
          "metadata": {},
          "execution_count": 26
        }
      ]
    },
    {
      "cell_type": "markdown",
      "metadata": {
        "id": "xFvtmvYPWNuC"
      },
      "source": [
        "# Function"
      ]
    },
    {
      "cell_type": "code",
      "metadata": {
        "id": "aK_sB0F8WPMI"
      },
      "source": [
        "#Tenth_power\n",
        "def tenth_power(num):\n",
        "  num = num**10\n",
        "  return num"
      ],
      "execution_count": 27,
      "outputs": []
    },
    {
      "cell_type": "code",
      "metadata": {
        "colab": {
          "base_uri": "https://localhost:8080/"
        },
        "id": "U2HcGEWjmCn5",
        "outputId": "ae24ae50-34f3-4765-c2ec-53559fde3ada"
      },
      "source": [
        "example = 18 % 2 #use modulo  for remainders\n",
        "example"
      ],
      "execution_count": 28,
      "outputs": [
        {
          "output_type": "execute_result",
          "data": {
            "text/plain": [
              "0"
            ]
          },
          "metadata": {},
          "execution_count": 28
        }
      ]
    },
    {
      "cell_type": "code",
      "metadata": {
        "id": "oJ7uoEU5obcH"
      },
      "source": [
        "#advance \n",
        "def tip(total ,percentage ):\n",
        "  food = (total * percentage)/100\n",
        "  return food"
      ],
      "execution_count": 29,
      "outputs": []
    },
    {
      "cell_type": "code",
      "metadata": {
        "id": "PrbMHC5zq0Ra"
      },
      "source": [
        ""
      ],
      "execution_count": 29,
      "outputs": []
    },
    {
      "cell_type": "markdown",
      "metadata": {
        "id": "zUDE_Y0gTLg0"
      },
      "source": [
        "# order to win the prize for most cookies sold"
      ]
    },
    {
      "cell_type": "code",
      "metadata": {
        "id": "btZqQurOTOep"
      },
      "source": [
        "my_list     = [3, 4, 6, 10, 11, 15]\n",
        "alices_list = [1, 5, 8, 12, 14, 19 , 20]\n",
        "\n",
        "#print(merge_lists(my_list, alices_list))\n",
        "# Prints [1, 3, 4, 5, 6, 8, 10, 11, 12, 14, 15, 19] expect ans \n"
      ],
      "execution_count": 30,
      "outputs": []
    },
    {
      "cell_type": "code",
      "metadata": {
        "id": "cpAUYifMThVl"
      },
      "source": [
        "#style 1\n",
        "def merge_lists(my_list , alices_list):\n",
        "  new = my_list + alices_list\n",
        "  return sorted(new)"
      ],
      "execution_count": 31,
      "outputs": []
    },
    {
      "cell_type": "code",
      "metadata": {
        "id": "db-lV9pcUhS7"
      },
      "source": [
        "#style 2\n",
        "def merge_lists(my_list, alices_list):\n",
        "    # Set up our merged_list\n",
        "    merged_list_size = len(my_list) + len(alices_list)\n",
        "    merged_list = [None] * merged_list_size\n",
        "\n",
        "    current_index_alices = 0\n",
        "    current_index_mine = 0\n",
        "    current_index_merged = 0\n",
        "    while current_index_merged < merged_list_size:\n",
        "        is_my_list_exhausted = current_index_mine >= len(my_list)\n",
        "        is_alices_list_exhausted = current_index_alices >= len(alices_list)\n",
        "        if (not is_my_list_exhausted and\n",
        "                (is_alices_list_exhausted or\n",
        "                 my_list[current_index_mine] < alices_list[current_index_alices])):\n",
        "            # Case: next comes from my list\n",
        "            # My list must not be exhausted, and EITHER:\n",
        "            # 1) Alice's list IS exhausted, or\n",
        "            # 2) the current element in my list is less\n",
        "            #    than the current element in Alice's list\n",
        "            merged_list[current_index_merged] = my_list[current_index_mine]\n",
        "            current_index_mine += 1\n",
        "        else:\n",
        "            # Case: next comes from Alice's list\n",
        "            merged_list[current_index_merged] = alices_list[current_index_alices]\n",
        "            current_index_alices += 1\n",
        "\n",
        "        current_index_merged += 1\n",
        "\n",
        "    return merged_list"
      ],
      "execution_count": 32,
      "outputs": []
    },
    {
      "cell_type": "code",
      "metadata": {
        "colab": {
          "base_uri": "https://localhost:8080/"
        },
        "id": "501lkjh_Yj16",
        "outputId": "d245e98d-4602-468d-c5e3-43b9cb01da60"
      },
      "source": [
        "merge_lists(my_list , alices_list) "
      ],
      "execution_count": 33,
      "outputs": [
        {
          "output_type": "execute_result",
          "data": {
            "text/plain": [
              "[1, 3, 4, 5, 6, 8, 10, 11, 12, 14, 15, 19, 20]"
            ]
          },
          "metadata": {},
          "execution_count": 33
        }
      ]
    },
    {
      "cell_type": "code",
      "metadata": {
        "id": "eQU1M7byj8i6"
      },
      "source": [
        ""
      ],
      "execution_count": 33,
      "outputs": []
    }
  ]
}