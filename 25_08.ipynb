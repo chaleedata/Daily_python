{
  "cells": [
    {
      "cell_type": "code",
      "execution_count": 1,
      "metadata": {
        "id": "Hqd4OTJz0-NR"
      },
      "outputs": [],
      "source": [
        "first_name = \"Reiko\"\n",
        "last_name  = \"Yuya\""
      ]
    },
    {
      "cell_type": "code",
      "execution_count": 2,
      "metadata": {
        "colab": {
          "base_uri": "https://localhost:8080/",
          "height": 35
        },
        "id": "3EYdXOVC28DE",
        "outputId": "25764dea-5832-4318-9d4f-e330a146718e"
      },
      "outputs": [
        {
          "data": {
            "application/vnd.google.colaboratory.intrinsic+json": {
              "type": "string"
            },
            "text/plain": [
              "'ikouki'"
            ]
          },
          "execution_count": 2,
          "metadata": {},
          "output_type": "execute_result"
        }
      ],
      "source": [
        "def password_generator(first_name , last_name):\n",
        "  temp_password = first_name[len(first_name)-3:] + last_name[len(last_name)-3:]\n",
        "  return temp_password\n",
        "\n",
        "temp_password = password_generator(first_name , last_name)\n",
        "temp_password \n",
        "\n",
        "#len ใช้ในกรณีที่ต้องการ index และเป็น string "
      ]
    },
    {
      "cell_type": "code",
      "execution_count": 3,
      "metadata": {
        "id": "MQsi1Jmw3OmA"
      },
      "outputs": [],
      "source": [
        "first_name = \"Bob\""
      ]
    },
    {
      "cell_type": "code",
      "execution_count": 4,
      "metadata": {
        "id": "0yxhm2mq3iUs"
      },
      "outputs": [],
      "source": [
        "#Immutable strings\n",
        "fixed_first_name = \"R\" + first_name[1:]"
      ]
    },
    {
      "cell_type": "code",
      "execution_count": null,
      "metadata": {
        "id": "ehqUbhXWJRjX"
      },
      "outputs": [],
      "source": [
        "  for letter in big_string:\n",
        "    for letter_1 in little_string:\n",
        "      if letter == letter_1:\n",
        "        return True\n",
        "      return False "
      ]
    },
    {
      "cell_type": "code",
      "execution_count": null,
      "metadata": {
        "id": "fQutNlwBBgfj"
      },
      "outputs": [],
      "source": [
        "def common_letters(string_one , string_two):\n",
        "  common = []\n",
        "  for letter in string_one:\n",
        "    if(letter in string_two) and not (letter in common):\n",
        "      common.append(letter)\n",
        "  return common "
      ]
    },
    {
      "cell_type": "code",
      "execution_count": null,
      "metadata": {
        "id": "DjycUwb9MO9q"
      },
      "outputs": [],
      "source": [
        "def username_generator(first_name ,last_name):\n",
        "  if len(first_name) < 3:\n",
        "    user_name = first_name\n",
        "  else:\n",
        "    user_name = first_name[0:3]\n",
        "  if len(last_name) < 4:\n",
        "    user_name += last_name\n",
        "  else:\n",
        "    user_name += last_name[0:4]\n",
        "  return user_name"
      ]
    },
    {
      "cell_type": "code",
      "execution_count": null,
      "metadata": {
        "id": "OsyjiSJgS6S-"
      },
      "outputs": [],
      "source": [
        "def password_generator(user_name):\n",
        "    password = \"\"\n",
        "    for i in range(0, len(user_name)):\n",
        "        password += user_name[i-1]\n",
        "    return password"
      ]
    },
    {
      "cell_type": "markdown",
      "metadata": {
        "id": "ODoeveowLa62"
      },
      "source": [
        "# String"
      ]
    },
    {
      "cell_type": "code",
      "execution_count": null,
      "metadata": {
        "id": "9ptF0Ab3Lch_"
      },
      "outputs": [],
      "source": [
        "#create split name and lastname\n",
        "\n",
        "author_names  = authors.split(',')\n",
        "\n",
        "author_last_names = []\n",
        "for name in author_names:\n",
        "  author_last_names.append(name.split()[-1])"
      ]
    },
    {
      "cell_type": "code",
      "execution_count": null,
      "metadata": {
        "id": "BuMFYZgUQ-7W"
      },
      "outputs": [],
      "source": [
        "\\n newline\n",
        "\\t  Horizontal tab"
      ]
    },
    {
      "cell_type": "code",
      "execution_count": null,
      "metadata": {
        "id": "k034cGk1RYTs"
      },
      "outputs": [],
      "source": [
        "#create Function Join "
      ]
    },
    {
      "cell_type": "code",
      "execution_count": null,
      "metadata": {
        "id": "52tbQrYvRYae"
      },
      "outputs": [],
      "source": [
        "winter_trees_lines = ['All the complicated details', \n",
        "                      'of the attiring and', \n",
        "                      'the disattiring are completed!',\n",
        "                      'A liquid moon', \n",
        "                      'moves gently among', \n",
        "                      'the long branches.', \n",
        "                      'Thus having prepared their buds', \n",
        "                      'against a sure winter', \n",
        "                      'the wise trees', \n",
        "                      'stand sleeping in the cold.']\n",
        "\n",
        "winter_trees_full = \"\\n\".join(winter_trees_lines) #use dilemiter before join "
      ]
    },
    {
      "cell_type": "code",
      "execution_count": null,
      "metadata": {
        "id": "a6PgCCUwSZI-"
      },
      "outputs": [],
      "source": [
        "#Strip   \n",
        "#Think Big overall create list \n",
        "\n",
        "love_maybe_lines_stripped = []\n",
        "\n",
        "for  line in love_maybe_lines:\n",
        "  love_maybe_lines_stripped.append(line.strip())  #step 1 \n",
        "\n",
        "love_maybe_full = '\\n'.join(love_maybe_lines_stripped) #step 2\n",
        "\n",
        "print(love_maybe_full)\n"
      ]
    },
    {
      "cell_type": "code",
      "execution_count": null,
      "metadata": {
        "id": "UJUkCsRcVDQF"
      },
      "outputs": [],
      "source": [
        "#use .format to inset input \n",
        "def poem_title_card(title , poet):\n",
        "  poem_desc = \"The poem \\\"{}\\\" is written by {}.\".format(title , poet)\n",
        "  return poem_desc"
      ]
    },
    {
      "cell_type": "code",
      "execution_count": null,
      "metadata": {
        "id": "y8foRFYQWeUY"
      },
      "outputs": [],
      "source": [
        "#\n",
        "#create list keep data \n",
        "titles = []\n",
        "poets =  []\n",
        "dates =  []\n",
        "\n",
        "#for loop append data all list \n",
        "for number in highlighted_poems_details:\n",
        "  titles.append(titles[0])\n",
        "  poets.append(titles[1])\n",
        "  dates.append(titles[2])\n",
        "\n",
        "\n",
        "#for loop index \n",
        "for i in  range(0 , len(highlighted_poems_details)):\n",
        "    print('The poem {} was published by {} in {}.').format(\n",
        "    titles[i] , poets[i] , dates[i]\n",
        "  )"
      ]
    },
    {
      "cell_type": "code",
      "execution_count": null,
      "metadata": {
        "id": "2YiK5DlYjOwH"
      },
      "outputs": [],
      "source": [
        "highlighted_poems = \"Afterimages:Audre Lorde:1997,  The Shadow:William Carlos Williams:1915, Ecstasy:Gabriela Mistral:1925,   Georgia Dusk:Jean Toomer:1923,   Parting Before Daybreak:An Qi:2014, The Untold Want:Walt Whitman:1871, Mr. Grumpledump's Song:Shel Silverstein:2004, Angel Sound Mexico City:Carmen Boullosa:2013, In Love:Kamala Suraiyya:1965, Dream Variations:Langston Hughes:1994, Dreamwood:Adrienne Rich:1987\""
      ]
    },
    {
      "cell_type": "code",
      "execution_count": null,
      "metadata": {
        "id": "5AdvuBdyiN0e"
      },
      "outputs": [],
      "source": [
        "for i in  range(0 ,  6):\n",
        "  print(i)"
      ]
    }
  ],
  "metadata": {
    "colab": {
      "collapsed_sections": [],
      "name": "25/08.ipynb",
      "provenance": []
    },
    "kernelspec": {
      "display_name": "Python 3",
      "name": "python3"
    },
    "language_info": {
      "name": "python"
    }
  },
  "nbformat": 4,
  "nbformat_minor": 0
}
