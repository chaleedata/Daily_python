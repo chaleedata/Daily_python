{
  "nbformat": 4,
  "nbformat_minor": 0,
  "metadata": {
    "colab": {
      "name": "25/08.ipynb",
      "provenance": [],
      "collapsed_sections": []
    },
    "kernelspec": {
      "name": "python3",
      "display_name": "Python 3"
    },
    "language_info": {
      "name": "python"
    }
  },
  "cells": [
    {
      "cell_type": "code",
      "metadata": {
        "id": "Hqd4OTJz0-NR"
      },
      "source": [
        "first_name = \"Reiko\"\n",
        "last_name  = \"Matsuki\""
      ],
      "execution_count": 1,
      "outputs": []
    },
    {
      "cell_type": "code",
      "metadata": {
        "colab": {
          "base_uri": "https://localhost:8080/",
          "height": 35
        },
        "id": "3EYdXOVC28DE",
        "outputId": "25764dea-5832-4318-9d4f-e330a146718e"
      },
      "source": [
        "def password_generator(first_name , last_name):\n",
        "  temp_password = first_name[len(first_name)-3:] + last_name[len(last_name)-3:]\n",
        "  return temp_password\n",
        "\n",
        "temp_password = password_generator(first_name , last_name)\n",
        "temp_password \n",
        "\n",
        "#len ใช้ในกรณีที่ต้องการ index และเป็น string "
      ],
      "execution_count": 2,
      "outputs": [
        {
          "output_type": "execute_result",
          "data": {
            "application/vnd.google.colaboratory.intrinsic+json": {
              "type": "string"
            },
            "text/plain": [
              "'ikouki'"
            ]
          },
          "metadata": {},
          "execution_count": 2
        }
      ]
    },
    {
      "cell_type": "code",
      "metadata": {
        "id": "MQsi1Jmw3OmA"
      },
      "source": [
        "first_name = \"Bob\""
      ],
      "execution_count": 3,
      "outputs": []
    },
    {
      "cell_type": "code",
      "metadata": {
        "id": "0yxhm2mq3iUs"
      },
      "source": [
        "#Immutable strings\n",
        "fixed_first_name = \"R\" + first_name[1:]"
      ],
      "execution_count": 4,
      "outputs": []
    },
    {
      "cell_type": "code",
      "metadata": {
        "id": "ehqUbhXWJRjX"
      },
      "source": [
        "  for letter in big_string:\n",
        "    for letter_1 in little_string:\n",
        "      if letter == letter_1:\n",
        "        return True\n",
        "      return False "
      ],
      "execution_count": null,
      "outputs": []
    },
    {
      "cell_type": "code",
      "metadata": {
        "id": "fQutNlwBBgfj"
      },
      "source": [
        "def common_letters(string_one , string_two):\n",
        "  common = []\n",
        "  for letter in string_one:\n",
        "    if(letter in string_two) and not (letter in common):\n",
        "      common.append(letter)\n",
        "  return common "
      ],
      "execution_count": null,
      "outputs": []
    },
    {
      "cell_type": "code",
      "metadata": {
        "id": "DjycUwb9MO9q"
      },
      "source": [
        "def username_generator(first_name ,last_name):\n",
        "  if len(first_name) < 3:\n",
        "    user_name = first_name\n",
        "  else:\n",
        "    user_name = first_name[0:3]\n",
        "  if len(last_name) < 4:\n",
        "    user_name += last_name\n",
        "  else:\n",
        "    user_name += last_name[0:4]\n",
        "  return user_name"
      ],
      "execution_count": null,
      "outputs": []
    },
    {
      "cell_type": "code",
      "metadata": {
        "id": "OsyjiSJgS6S-"
      },
      "source": [
        "def password_generator(user_name):\n",
        "    password = \"\"\n",
        "    for i in range(0, len(user_name)):\n",
        "        password += user_name[i-1]\n",
        "    return password"
      ],
      "execution_count": null,
      "outputs": []
    },
    {
      "cell_type": "markdown",
      "metadata": {
        "id": "ODoeveowLa62"
      },
      "source": [
        "# String"
      ]
    },
    {
      "cell_type": "code",
      "metadata": {
        "id": "9ptF0Ab3Lch_"
      },
      "source": [
        "#create split name and lastname\n",
        "\n",
        "author_names  = authors.split(',')\n",
        "\n",
        "author_last_names = []\n",
        "for name in author_names:\n",
        "  author_last_names.append(name.split()[-1])"
      ],
      "execution_count": null,
      "outputs": []
    },
    {
      "cell_type": "code",
      "metadata": {
        "id": "BuMFYZgUQ-7W"
      },
      "source": [
        "\\n newline\n",
        "\\t  Horizontal tab"
      ],
      "execution_count": null,
      "outputs": []
    },
    {
      "cell_type": "code",
      "metadata": {
        "id": "k034cGk1RYTs"
      },
      "source": [
        "#create Function Join "
      ],
      "execution_count": null,
      "outputs": []
    },
    {
      "cell_type": "code",
      "metadata": {
        "id": "52tbQrYvRYae"
      },
      "source": [
        "winter_trees_lines = ['All the complicated details', \n",
        "                      'of the attiring and', \n",
        "                      'the disattiring are completed!',\n",
        "                      'A liquid moon', \n",
        "                      'moves gently among', \n",
        "                      'the long branches.', \n",
        "                      'Thus having prepared their buds', \n",
        "                      'against a sure winter', \n",
        "                      'the wise trees', \n",
        "                      'stand sleeping in the cold.']\n",
        "\n",
        "winter_trees_full = \"\\n\".join(winter_trees_lines) #use dilemiter before join "
      ],
      "execution_count": null,
      "outputs": []
    },
    {
      "cell_type": "code",
      "metadata": {
        "id": "a6PgCCUwSZI-"
      },
      "source": [
        "#Strip   \n",
        "#Think Big overall create list \n",
        "\n",
        "love_maybe_lines_stripped = []\n",
        "\n",
        "for  line in love_maybe_lines:\n",
        "  love_maybe_lines_stripped.append(line.strip())  #step 1 \n",
        "\n",
        "love_maybe_full = '\\n'.join(love_maybe_lines_stripped) #step 2\n",
        "\n",
        "print(love_maybe_full)\n"
      ],
      "execution_count": null,
      "outputs": []
    },
    {
      "cell_type": "code",
      "metadata": {
        "id": "UJUkCsRcVDQF"
      },
      "source": [
        "#use .format to inset input \n",
        "def poem_title_card(title , poet):\n",
        "  poem_desc = \"The poem \\\"{}\\\" is written by {}.\".format(title , poet)\n",
        "  return poem_desc"
      ],
      "execution_count": null,
      "outputs": []
    },
    {
      "cell_type": "code",
      "metadata": {
        "id": "y8foRFYQWeUY"
      },
      "source": [
        "#\n",
        "#create list keep data \n",
        "titles = []\n",
        "poets =  []\n",
        "dates =  []\n",
        "\n",
        "#for loop append data all list \n",
        "for number in highlighted_poems_details:\n",
        "  titles.append(titles[0])\n",
        "  poets.append(titles[1])\n",
        "  dates.append(titles[2])\n",
        "\n",
        "\n",
        "#for loop index \n",
        "for i in  range(0 , len(highlighted_poems_details)):\n",
        "    print('The poem {} was published by {} in {}.').format(\n",
        "    titles[i] , poets[i] , dates[i]\n",
        "  )"
      ],
      "execution_count": null,
      "outputs": []
    },
    {
      "cell_type": "code",
      "metadata": {
        "id": "2YiK5DlYjOwH"
      },
      "source": [
        "highlighted_poems = \"Afterimages:Audre Lorde:1997,  The Shadow:William Carlos Williams:1915, Ecstasy:Gabriela Mistral:1925,   Georgia Dusk:Jean Toomer:1923,   Parting Before Daybreak:An Qi:2014, The Untold Want:Walt Whitman:1871, Mr. Grumpledump's Song:Shel Silverstein:2004, Angel Sound Mexico City:Carmen Boullosa:2013, In Love:Kamala Suraiyya:1965, Dream Variations:Langston Hughes:1994, Dreamwood:Adrienne Rich:1987\""
      ],
      "execution_count": null,
      "outputs": []
    },
    {
      "cell_type": "code",
      "metadata": {
        "id": "5AdvuBdyiN0e"
      },
      "source": [
        "for i in  range(0 ,  6):\n",
        "  print(i)"
      ],
      "execution_count": null,
      "outputs": []
    }
  ]
}